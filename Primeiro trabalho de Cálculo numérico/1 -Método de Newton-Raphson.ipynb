{
 "nbformat": 4,
 "nbformat_minor": 0,
 "metadata": {
  "colab": {
   "name": "Newton-Raphson.ipynb",
   "provenance": [],
   "collapsed_sections": []
  },
  "kernelspec": {
   "name": "python3",
   "display_name": "Python 3"
  }
 },
 "cells": [
  {
   "cell_type": "markdown",
   "metadata": {
    "id": "g1ya3SQPkCnT",
    "colab_type": "text"
   },
   "source": [
    "### Método do Newton-rapson"
   ]
  },
  {
   "cell_type": "code",
   "metadata": {
    "id": "mTEFNip5kBrA",
    "colab_type": "code",
    "colab": {
     "base_uri": "https://localhost:8080/",
     "height": 408
    },
    "executionInfo": {
     "status": "ok",
     "timestamp": 1600261115931,
     "user_tz": 180,
     "elapsed": 1424,
     "user": {
      "displayName": "Jean Firmino",
      "photoUrl": "https://lh3.googleusercontent.com/a-/AOh14GjFJV5ZmLshBCa0RNoJDjlS6LiSQzvU83ieVt7v9w=s64",
      "userId": "00886621537172662755"
     }
    },
    "outputId": "d6f7510f-c803-4f43-d6e5-6e19df9d0bbb"
   },
   "source": [
    "#>>>> METODO DE NEWTON-RAPHSON  <<<<#\n",
    "# importando a biblioteca matematica\n",
    "from math import*\n",
    "\n",
    "'''Importamos a biblioteca math apenas para poder usar algumas funções matemáticas básicas\n",
    "como a raiz e o modulo de um valor '''\n",
    "\n",
    "\n",
    "\n",
    "# Função desejada #################################\n",
    "def f(x):\n",
    "    return (x**5)/10 + x**4 - 3*x**2 + 1\n",
    "\n",
    "''' Essa função foi feita apenas para facilitar quando o programa necessitar fazer varios\n",
    "chamamentos para a mesma função, podemos fazer ela diretamente dentro do while, mas\n",
    "apenas deixaria mais complicado de trabalhar, pode modificar por questão'''\n",
    "\n",
    "# a derivada da funçao #######################################\n",
    "def g(x):\n",
    "    return (x**4)/2 + 4*x**3 - 6*x\n",
    "'''derivada da função foi feita assim pelo mesmo motivo de ter feito a função assim'''\n",
    "\n",
    "# função para criar tabela \n",
    "\n",
    "def ct(cont, xi,a,t,p,g,erro):\n",
    "    k=' '\n",
    "    if cont==1:\n",
    "        print(f\"Iterações{k*12}xi{k*15}a{k*19}f(xi){k*15}f(a){k*15}g(a){k*17}erro{k*15}\")\n",
    "        print(\"-\"*160)\n",
    "    print(f'|{cont:3}|         |{xi: 7.7f}|         |{a: 7.7f}|          |{t: 7.7f}|        |{p: 7.7f}|         |{g: 7.7f}|           |{erro: 7.7f}|')\n",
    "    if n==False:\n",
    "        print(\"-\"*160)\n",
    "        print(\"\\n\\n\")\n",
    "\n",
    "\n",
    "'''\n",
    "Essa função apenas foi feita para apresentar os valores das variaveis a,xi,erro,f(xi) que\n",
    "é a variavel t,f(a) que é a variavel p e g(a) que é a variavel g, todos de acordo com o \n",
    "numero de iterações. \n",
    "\n",
    "fiz isso com as variaveis t,p,g pelo simples motivo\n",
    "\n",
    "def criartabela(cont,a,xi,f(xi),f(a),g(a),erro):  <---- não posso fazer o chamamento \n",
    "da função f(x) dentro de outra função(criartabela(cont,a,xi,t,p,g,erro)). Bem, se é \n",
    "possivel eu não sei, pois tentei fazer direto e o sistema bugou. rsrs\n",
    "\n",
    "um adendo com o ultimo 'if' dentro dessa função, apenas foi feita para fechar a tabela\n",
    "com uma linha embaixo.(quando n mudar, vai chegar no numero maximo de iterações)\n",
    "\n",
    "o primeiro if foi feito com o mesmo principio de ser estetico. apenas para adicionar\n",
    "o cabeçalho da tabela  \n",
    "\n",
    "'''\n",
    "###############################################\n",
    "a = -12   # inicial\n",
    "tol = 10**-7    #tolerancia\n",
    "iter = 20    #iteraçoes maximas\n",
    "kl = '(x**5)/10 + x**4 - 3*x**2 + 1'\n",
    "km = '(x**4)/2 + 4*x**3 - 6*x'\n",
    "print(f'A função {kl}\\nA derivada é {km}\\nX1={a}\\ntol={tol:.7f}\\nIterações Maximas={iter}')\n",
    "'''\n",
    "Apenas para determinar as condicionais desejadas \n",
    "\n",
    "'''\n",
    "###############################################\n",
    "\n",
    "cont = 1\n",
    "temraiz = True\n",
    "n = True\n",
    "# condicionais usadas para para manter o while funcional \n",
    "\n",
    "while n: #caso n seja verdadeiro, ele vai repetir \n",
    "    if g(a) == 0.0: #apenas para confirmar que o denominar não será zero, caso seja, o programa para.\n",
    "        print(f'Divisão por zero!')\n",
    "        break\n",
    "    \n",
    "    xi = a - f(a)/g(a)  # metodo de newton raphson\n",
    "    erro = fabs((xi - a) / xi) #calculo do erro \n",
    "    ct(cont, xi,a,f(xi),f(a),g(a),erro) #chamamento da tabela\n",
    "    a = xi \n",
    "\n",
    "    cont += 1 #contador para ajudar na construção da tabela, mas também para impor o limite de iterações\n",
    "    \n",
    "    if cont > iter: #caso ultrapasse o limite\n",
    "        temraiz = False\n",
    "        break\n",
    "        \n",
    "    n = abs(f(xi)) > tol #caso xi não seja a raiz, o laço não fechará\n",
    "\n",
    "ct(cont, xi,a,f(xi),f(a),g(a),erro) \n",
    "if temraiz==True:\n",
    "    print(f'\\nA raiz: {xi}\\n\\n\\n')\n",
    "else:\n",
    "    print(f'\\nNão converge\\n\\n\\n')\n"
   ],
   "execution_count": 1,
   "outputs": [
    {
     "output_type": "stream",
     "text": [
      "A função (x**5)/10 + x**4 - 3*x**2 + 1\n",
      "A derivada é (x**4)/2 + 4*x**3 - 6*x\n",
      "X1=-12\n",
      "tol=0.0000001\n",
      "Iterações Maximas=20\n",
      "Iterações            xi               a                   f(xi)               f(a)               g(a)                 erro               \n",
      "----------------------------------------------------------------------------------------------------------------------------------------------------------------\n",
      "|  1|         |-10.7023243|         |-12.0000000|          |-1264.0232337|        |-4578.2000000|         | 3528.0000000|           | 0.1212518|\n",
      "|  2|         |-9.9676511|         |-10.7023243|          |-265.1298440|        |-1264.0232337|         | 1720.5245435|           | 0.0737057|\n",
      "|  3|         |-9.7112677|         |-9.9676511|          |-25.1237280|        |-265.1298440|         | 1034.1145951|           | 0.0264006|\n",
      "|  4|         |-9.6814262|         |-9.7112677|          |-0.3128851|        |-25.1237280|         | 841.9060241|           | 0.0030823|\n",
      "|  5|         |-9.6810451|         |-9.6814262|          |-0.0000506|        |-0.3128851|         | 820.9854056|           | 0.0000394|\n",
      "|  6|         |-9.6810450|         |-9.6810451|          |-0.0000000|        |-0.0000506|         | 820.7201318|           | 0.0000000|\n",
      "|  7|         |-9.6810450|         |-9.6810450|          |-0.0000000|        |-0.0000000|         | 820.7200889|           | 0.0000000|\n",
      "----------------------------------------------------------------------------------------------------------------------------------------------------------------\n",
      "\n",
      "\n",
      "\n",
      "\n",
      "A raiz: -9.681044999963826\n",
      "\n",
      "\n",
      "\n"
     ],
     "name": "stdout"
    }
   ]
  }
 ]
}